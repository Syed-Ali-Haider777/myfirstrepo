{
 "cells": [
  {
   "cell_type": "markdown",
   "id": "13355f5b",
   "metadata": {},
   "source": [
    "# Data Science Tools and Ecosystem"
   ]
  },
  {
   "cell_type": "markdown",
   "id": "5560e997",
   "metadata": {},
   "source": [
    "In this notebook, Data Science Tools and Ecosystem are summarized."
   ]
  },
  {
   "cell_type": "markdown",
   "id": "039fb68d",
   "metadata": {},
   "source": [
    "Some of the popular languages that Data Scientists use are:\n",
    "\n",
    "    1. Python\n",
    "    2. R\n",
    "    3. Sql\n",
    "    4. Scala\n",
    "    5. Java"
   ]
  },
  {
   "cell_type": "markdown",
   "id": "efa319ac",
   "metadata": {},
   "source": [
    "Some of the commonly used libraries used by Data Scientists include:\n",
    "    \n",
    "    1. Pandas\n",
    "    2. Numpy\n",
    "    3. Tensorflow\n",
    "    4. Matplotlib\n",
    "    5. Scipy"
   ]
  },
  {
   "cell_type": "markdown",
   "id": "ace130e3",
   "metadata": {},
   "source": [
    "# Table"
   ]
  },
  {
   "cell_type": "markdown",
   "id": "b38fec07",
   "metadata": {},
   "source": [
    " |Data Science Tools|\n",
    " |------------------|\n",
    " |Apache Spark|\n",
    " |Apache Hadoop|\n",
    " |Apache Mahout|\n",
    " |Orange|\n",
    " |Knime|"
   ]
  },
  {
   "cell_type": "markdown",
   "id": "eedcff2b",
   "metadata": {},
   "source": [
    "### Below are a few examples of evaluating arithmetic expressions in Python"
   ]
  },
  {
   "cell_type": "code",
   "execution_count": 8,
   "id": "69c5c654",
   "metadata": {},
   "outputs": [
    {
     "data": {
      "text/plain": [
       "17"
      ]
     },
     "execution_count": 8,
     "metadata": {},
     "output_type": "execute_result"
    }
   ],
   "source": [
    "## This a simple arithmetic expression to mutiply then add integers.\n",
    "(3*4)+5"
   ]
  },
  {
   "cell_type": "code",
   "execution_count": 9,
   "id": "71733d83",
   "metadata": {},
   "outputs": [
    {
     "data": {
      "text/plain": [
       "3.3333333333333335"
      ]
     },
     "execution_count": 9,
     "metadata": {},
     "output_type": "execute_result"
    }
   ],
   "source": [
    "## This will convert 200 minutes to hours by diving by 60.\n",
    "200/60"
   ]
  },
  {
   "cell_type": "markdown",
   "id": "f5a4b208",
   "metadata": {},
   "source": [
    "## Objectives:\n",
    "- Python\n",
    "- R\n",
    "- Jupyter notebooks\n",
    "- Github\n"
   ]
  },
  {
   "cell_type": "markdown",
   "id": "03684b1e",
   "metadata": {},
   "source": [
    "## Author\n",
    "\n",
    "Syed Ali Haider"
   ]
  },
  {
   "cell_type": "code",
   "execution_count": null,
   "id": "2245d904",
   "metadata": {},
   "outputs": [],
   "source": []
  }
 ],
 "metadata": {
  "kernelspec": {
   "display_name": "Python 3 (ipykernel)",
   "language": "python",
   "name": "python3"
  },
  "language_info": {
   "codemirror_mode": {
    "name": "ipython",
    "version": 3
   },
   "file_extension": ".py",
   "mimetype": "text/x-python",
   "name": "python",
   "nbconvert_exporter": "python",
   "pygments_lexer": "ipython3",
   "version": "3.11.5"
  }
 },
 "nbformat": 4,
 "nbformat_minor": 5
}
